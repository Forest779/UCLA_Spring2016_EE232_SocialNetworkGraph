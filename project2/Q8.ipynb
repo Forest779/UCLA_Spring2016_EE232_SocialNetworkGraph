{
 "cells": [
  {
   "cell_type": "code",
   "execution_count": 16,
   "metadata": {
    "collapsed": false
   },
   "outputs": [],
   "source": [
    "feature = open (\"/Users/ddyihai/Desktop/232e/project2/Project2/mldata/trainwhole_nodeid.txt\",'r')\n",
    "#feature2 = open (\"/Users/ddyihai/Desktop/232e/project2/Project2/mldata/train3w_nodeid.txt\",'r')\n",
    "label = open (\"/Users/ddyihai/Desktop/232e/project2/Project2/mldata/labelwhole_nodeid.txt\",'r')\n",
    "#label2 = open (\"/Users/ddyihai/Desktop/232e/project2/Project2/mldata/label3w_nodeid.txt\",'r')\n",
    "test_feature = open (\"/Users/ddyihai/Desktop/232e/project2/Project2/mldata/tests.txt\",'r')"
   ]
  },
  {
   "cell_type": "code",
   "execution_count": 17,
   "metadata": {
    "collapsed": false
   },
   "outputs": [
    {
     "name": "stdout",
     "output_type": "stream",
     "text": [
      "Create movie_direct_map\n"
     ]
    }
   ],
   "source": [
    "\n",
    "print \"Create movie_direct_map\"\n",
    "i=1\n",
    "feature_line = []\n",
    "for line in feature.readlines():\n",
    "    line = line[:]\n",
    "    tmp=line.split(\" \")\n",
    "    tmp_line = [float(tmp[i]) for i in range (106)]\n",
    "    feature_line.append(tmp_line)\n",
    "#for line in feature2.readlines():\n",
    "#    line = line[:]\n",
    "#    tmp=line.split(\" \")\n",
    "#    tmp_line = [float(tmp[i]) for i in range (106)]\n",
    "#    feature_line.append(tmp_line)\n",
    "    \n",
    "    \n",
    "feature_test = []\n",
    "for line in test_feature.readlines():\n",
    "    line = line[:]\n",
    "    tmp=line.split(\" \")\n",
    "    tmp_line = [float(tmp[i]) for i in range (106)]\n",
    "    feature_test.append(tmp_line[100:])\n",
    "    \n",
    "    \n",
    "label_line = []\n",
    "for line in label.readlines():\n",
    "    tmp=line.split(\" \")\n",
    "    label_line.append(float(tmp[0]))\n",
    "#for line in label2.readlines():\n",
    "#    label_line.append(float(line))"
   ]
  },
  {
   "cell_type": "code",
   "execution_count": 91,
   "metadata": {
    "collapsed": false
   },
   "outputs": [
    {
     "name": "stdout",
     "output_type": "stream",
     "text": [
      "29551\n",
      "106\n",
      "[1.870895e-05, 1.864647e-05, 1.819834e-05, 1.814195e-05, 1.80014e-05]\n",
      "[0.0, 0.0, 0.0, 0.0, 0.0, 0.0, 0.0, 0.0, 0.0, 0.0, 0.0, 0.0, 0.0, 0.0, 0.0, 0.0, 0.0, 0.0, 0.0, 0.0, 0.0, 0.0, 0.0, 0.0, 0.0, 0.0, 0.0, 0.0, 0.0, 0.0, 0.0, 0.0, 0.0, 0.0, 0.0, 0.0, 0.0, 0.0, 0.0, 0.0, 0.0, 0.0, 0.0, 0.0, 0.0, 0.0, 0.0, 0.0, 0.0, 0.0, 0.0, 0.0, 0.0, 0.0, 0.0, 0.0, 0.0, 0.0, 0.0, 0.0, 0.0, 0.0, 0.0, 0.0, 0.0, 0.0, 0.0, 0.0, 0.0, 0.0, 0.0, 0.0, 0.0, 0.0, 0.0, 0.0, 0.0, 0.0, 0.0, 0.0, 0.0, 0.0, 0.0, 0.0, 0.0, 0.0, 0.0, 0.0, 0.0, 0.0, 0.0, 0.0, 0.0, 0.0, 0.0, 0.0, 0.0, 0.0, 0.0, 0.0, 0.0]\n",
      "3.7\n",
      "29551\n",
      "29551\n"
     ]
    }
   ],
   "source": [
    "print(len(label_line))\n",
    "print(len(feature_line[1]))\n",
    "print(feature_line[2][101:])\n",
    "print(feature_line[30][0:101])\n",
    "print(label_line[2])\n",
    "print(len(feature_line))\n",
    "print(len(label_line))"
   ]
  },
  {
   "cell_type": "code",
   "execution_count": 19,
   "metadata": {
    "collapsed": false
   },
   "outputs": [],
   "source": [
    "feature = []\n",
    "label = []\n",
    "n=0\n",
    "for i in range (len(label_line)):\n",
    "    if(label_line[i] != 0.0):\n",
    "        n=n+1\n",
    "        feature.append(feature_line[i][100:])\n",
    "        label.append(label_line[i])"
   ]
  },
  {
   "cell_type": "code",
   "execution_count": 20,
   "metadata": {
    "collapsed": false
   },
   "outputs": [
    {
     "data": {
      "text/plain": [
       "array([ 6.1375217 ,  6.14992907,  6.23478102])"
      ]
     },
     "execution_count": 20,
     "metadata": {},
     "output_type": "execute_result"
    }
   ],
   "source": [
    "#Linear Regression\n",
    "from sklearn import linear_model\n",
    "from sklearn import cross_validation\n",
    "from sklearn.metrics import mean_squared_error\n",
    "import numpy as np\n",
    "regr = linear_model.LinearRegression(normalize = True)\n",
    "regr.fit(feature, label)\n",
    "res = regr.predict(feature_test)\n",
    "res"
   ]
  },
  {
   "cell_type": "code",
   "execution_count": 21,
   "metadata": {
    "collapsed": false
   },
   "outputs": [
    {
     "name": "stdout",
     "output_type": "stream",
     "text": [
      "(0, 2956)\n",
      "(0, 2956)\n",
      "(0, 2956)\n",
      "(0, 2956)\n",
      "(0, 2956)\n",
      "(0, 2956)\n",
      "(0, 2956)\n",
      "(0, 2956)\n",
      "(0, 2956)\n",
      "(0, 2956)\n",
      "1.27922350746\n"
     ]
    },
    {
     "data": {
      "text/plain": [
       "[1.2680402041612517,\n",
       " 1.2822356862809463,\n",
       " 1.2715193562977336,\n",
       " 1.2649707538185422,\n",
       " 1.2744562038949301,\n",
       " 1.3065576863102728,\n",
       " 1.2504238213017691,\n",
       " 1.2873042902210039,\n",
       " 1.2713536504510441,\n",
       " 1.3153734218510649]"
      ]
     },
     "execution_count": 21,
     "metadata": {},
     "output_type": "execute_result"
    }
   ],
   "source": [
    "#model_score = cross_validation.cross_val_score(regr, feature, label, cv=10, scoring='mean_squared_error')\n",
    "#model_score\n",
    "cross_mse = []\n",
    "for i in range (10):\n",
    "    X_train, X_test, y_train, y_test = cross_validation.train_test_split(feature, label, test_size=0.1, random_state=i)\n",
    "    clf = linear_model.LinearRegression()\n",
    "    clf.fit(X_train, y_train)\n",
    "    y_pred = clf.predict(X_test)   \n",
    "    count = 0\n",
    "    for i in range (len(y_pred)):\n",
    "        if(y_pred[i]>10):\n",
    "            count = count+1\n",
    "            y_pred[i] = 10\n",
    "        if(y_pred[i]<0):\n",
    "            count = count+1\n",
    "            y_pred[i]=0\n",
    "    print(count,len(y_pred))\n",
    "    cross_mse.append((mean_squared_error(y_pred,y_test))**0.5)\n",
    "    \n",
    "\n",
    "print(sum(cross_mse)/10)\n",
    "cross_mse\n"
   ]
  },
  {
   "cell_type": "code",
   "execution_count": 22,
   "metadata": {
    "collapsed": false
   },
   "outputs": [
    {
     "name": "stdout",
     "output_type": "stream",
     "text": [
      "[ 6.20000226  6.20000304  6.20000403]\n"
     ]
    }
   ],
   "source": [
    "#SVM\n",
    "import numpy as np\n",
    "from sklearn.svm import LinearSVR\n",
    "clf = LinearSVR()\n",
    "clf.fit(feature,label)\n",
    "res = clf.predict(feature_test)\n",
    "print(res)"
   ]
  },
  {
   "cell_type": "code",
   "execution_count": 23,
   "metadata": {
    "collapsed": false
   },
   "outputs": [
    {
     "name": "stdout",
     "output_type": "stream",
     "text": [
      "(0, 2956)\n",
      "(0, 2956)\n",
      "(0, 2956)\n",
      "(0, 2956)\n",
      "(0, 2956)\n",
      "(0, 2956)\n",
      "(0, 2956)\n",
      "(0, 2956)\n",
      "(0, 2956)\n",
      "(0, 2956)\n",
      "1.28750207162\n"
     ]
    },
    {
     "data": {
      "text/plain": [
       "[1.2775719925369138,\n",
       " 1.2911690698946858,\n",
       " 1.2810310447090487,\n",
       " 1.2714032529869619,\n",
       " 1.284111185684317,\n",
       " 1.3172867772120755,\n",
       " 1.2502050659961625,\n",
       " 1.2964047380515968,\n",
       " 1.2817965425780276,\n",
       " 1.3240410465286683]"
      ]
     },
     "execution_count": 23,
     "metadata": {},
     "output_type": "execute_result"
    }
   ],
   "source": [
    "#model_score = cross_validation.cross_val_score(regr, feature, label, cv=10, scoring='mean_squared_error')\n",
    "#model_score\n",
    "cross_mse = []\n",
    "for i in range (10):\n",
    "    X_train, X_test, y_train, y_test = cross_validation.train_test_split(feature, label, test_size=0.1, random_state=i)\n",
    "    clf = LinearSVR()\n",
    "    clf.fit(X_train, y_train)\n",
    "    y_pred = clf.predict(X_test)   \n",
    "    count = 0\n",
    "    for i in range (len(y_pred)):\n",
    "        if(y_pred[i]>10):\n",
    "            count = count+1\n",
    "            y_pred[i] = 10\n",
    "        if(y_pred[i]<0):\n",
    "            count = count+1\n",
    "            y_pred[i]=0\n",
    "    print(count,len(y_pred))\n",
    "    cross_mse.append((mean_squared_error(y_pred,y_test))**0.5)\n",
    "    \n",
    "\n",
    "print(sum(cross_mse)/10)\n",
    "cross_mse\n"
   ]
  },
  {
   "cell_type": "code",
   "execution_count": 24,
   "metadata": {
    "collapsed": false
   },
   "outputs": [
    {
     "name": "stdout",
     "output_type": "stream",
     "text": [
      "2956\n"
     ]
    }
   ],
   "source": [
    "print(len(y_pred))\n",
    "sumy = 0\n",
    "s=len(y_pred)\n",
    "for i in range (s):\n",
    "    if(y_pred[i] > 10):\n",
    "        print(y_test[i])\n",
    "    sumy = sumy + (y_pred[i]-y_test[i])* (y_pred[i]-y_test[i])"
   ]
  },
  {
   "cell_type": "code",
   "execution_count": 25,
   "metadata": {
    "collapsed": false
   },
   "outputs": [
    {
     "name": "stdout",
     "output_type": "stream",
     "text": [
      "(0, 2956)\n",
      "(0, 2956)\n",
      "(0, 2956)\n",
      "(0, 2956)\n",
      "(0, 2956)\n",
      "(0, 2956)\n",
      "(0, 2956)\n",
      "(0, 2956)\n",
      "(0, 2956)\n",
      "(0, 2956)\n",
      "1.27598017668\n"
     ]
    },
    {
     "data": {
      "text/plain": [
       "[1.2649529555602435,\n",
       " 1.2800230116330777,\n",
       " 1.2695157266261226,\n",
       " 1.2615088188448789,\n",
       " 1.2706758515176624,\n",
       " 1.3005471878203612,\n",
       " 1.2490580888872769,\n",
       " 1.2880644521338782,\n",
       " 1.2659386225993081,\n",
       " 1.3095170511947816]"
      ]
     },
     "execution_count": 25,
     "metadata": {},
     "output_type": "execute_result"
    }
   ],
   "source": [
    "from sklearn.ensemble import AdaBoostRegressor\n",
    "cross_mse = []\n",
    "for i in range (10):\n",
    "    X_train, X_test, y_train, y_test = cross_validation.train_test_split(feature, label, test_size=0.1, random_state=i)\n",
    "    clf = AdaBoostRegressor(n_estimators=2)\n",
    "    clf.fit(X_train, y_train)\n",
    "    y_pred = clf.predict(X_test)   \n",
    "    count = 0\n",
    "    for i in range (len(y_pred)):\n",
    "        if(y_pred[i]>10):\n",
    "            count = count+1\n",
    "            y_pred[i] = 10\n",
    "        if(y_pred[i]<0):\n",
    "            count = count+1\n",
    "            y_pred[i]=0\n",
    "    print(count,len(y_pred))\n",
    "    cross_mse.append((mean_squared_error(y_pred,y_test))**0.5)\n",
    "print(sum(cross_mse)/len(cross_mse))\n",
    "cross_mse"
   ]
  },
  {
   "cell_type": "code",
   "execution_count": 14,
   "metadata": {
    "collapsed": false
   },
   "outputs": [
    {
     "data": {
      "text/plain": [
       "array([ 6.00323213,  6.18899676,  6.36407625])"
      ]
     },
     "execution_count": 14,
     "metadata": {},
     "output_type": "execute_result"
    }
   ],
   "source": [
    "clf = AdaBoostRegressor(n_estimators=100)\n",
    "clf.fit(feature, label)\n",
    "res = clf.predict(feature_test)\n",
    "res"
   ]
  },
  {
   "cell_type": "code",
   "execution_count": 102,
   "metadata": {
    "collapsed": false
   },
   "outputs": [
    {
     "data": {
      "text/plain": [
       "7.4"
      ]
     },
     "execution_count": 102,
     "metadata": {},
     "output_type": "execute_result"
    }
   ],
   "source": []
  },
  {
   "cell_type": "code",
   "execution_count": 57,
   "metadata": {
    "collapsed": false
   },
   "outputs": [
    {
     "data": {
      "text/plain": [
       "6"
      ]
     },
     "execution_count": 57,
     "metadata": {},
     "output_type": "execute_result"
    }
   ],
   "source": []
  },
  {
   "cell_type": "code",
   "execution_count": 56,
   "metadata": {
    "collapsed": false
   },
   "outputs": [
    {
     "name": "stdout",
     "output_type": "stream",
     "text": [
      "[[ 1.          0.07845974  0.08669426  0.09024382  0.09522026  0.09599275\n",
      "   0.06897256]\n",
      " [ 0.07845974  1.          0.86879065  0.8202101   0.78770321  0.76578452\n",
      "   0.03462383]\n",
      " [ 0.08669426  0.86879065  1.          0.95113834  0.92062883  0.89796112\n",
      "   0.04644653]\n",
      " [ 0.09024382  0.8202101   0.95113834  1.          0.97082695  0.94899323\n",
      "   0.04758647]\n",
      " [ 0.09522026  0.78770321  0.92062883  0.97082695  1.          0.97938325\n",
      "   0.04865148]\n",
      " [ 0.09599275  0.76578452  0.89796112  0.94899323  0.97938325  1.\n",
      "   0.0501453 ]\n",
      " [ 0.06897256  0.03462383  0.04644653  0.04758647  0.04865148  0.0501453\n",
      "   1.        ]]\n"
     ]
    }
   ],
   "source": [
    "from numpy import transpose\n",
    "from numpy import dot\n",
    "X = transpose(np.asarray(feature))\n",
    "Y = np.asarray(label)\n",
    "import numpy\n",
    "print numpy.corrcoef(X,Y)\n"
   ]
  },
  {
   "cell_type": "code",
   "execution_count": 88,
   "metadata": {
    "collapsed": false
   },
   "outputs": [
    {
     "ename": "SyntaxError",
     "evalue": "invalid syntax (<ipython-input-88-401adbefa47a>, line 3)",
     "output_type": "error",
     "traceback": [
      "\u001b[0;36m  File \u001b[0;32m\"<ipython-input-88-401adbefa47a>\"\u001b[0;36m, line \u001b[0;32m3\u001b[0m\n\u001b[0;31m    if(tmp_feature.append(feature[j][0]) == 1.0)\u001b[0m\n\u001b[0m                                                ^\u001b[0m\n\u001b[0;31mSyntaxError\u001b[0m\u001b[0;31m:\u001b[0m invalid syntax\n"
     ]
    }
   ],
   "source": [
    "\n",
    "for i in range (6):\n",
    "    tmp_feature = []\n",
    "    for j in range (len(label)):\n",
    "        tmp_feature.append(feature[j][i])\n",
    "    X = np.asarray(tmp_feature)\n",
    "    Y = transpose(np.asarray(label))\n",
    "    numerator = Y.dot(X) - (sum(X) * sum(Y))/len(X); \n",
    "    Denominator = ((transpose(X).dot(X) - sum(X)**2 / len(X)) * (Y.dot(transpose(Y)) - sum(Y)**2 / len(X)))*0.5\n",
    "    print(i)\n",
    "    print(numerator)\n",
    "    print(Denominator)\n",
    "    coeff = numerator / Denominator\n",
    "    print(coeff)"
   ]
  },
  {
   "cell_type": "code",
   "execution_count": 93,
   "metadata": {
    "collapsed": false
   },
   "outputs": [
    {
     "name": "stdout",
     "output_type": "stream",
     "text": [
      "296\n"
     ]
    }
   ],
   "source": [
    "count = 0\n",
    "for j in range (len(label)):\n",
    "    if(feature[j][0] == 1.0):\n",
    "        count = count+1\n",
    "print(count)"
   ]
  },
  {
   "cell_type": "code",
   "execution_count": null,
   "metadata": {
    "collapsed": true
   },
   "outputs": [],
   "source": [
    "coeff = numerator / Denominator;  "
   ]
  }
 ],
 "metadata": {
  "kernelspec": {
   "display_name": "Python 2",
   "language": "python",
   "name": "python2"
  },
  "language_info": {
   "codemirror_mode": {
    "name": "ipython",
    "version": 2
   },
   "file_extension": ".py",
   "mimetype": "text/x-python",
   "name": "python",
   "nbconvert_exporter": "python",
   "pygments_lexer": "ipython2",
   "version": "2.7.11"
  }
 },
 "nbformat": 4,
 "nbformat_minor": 0
}
